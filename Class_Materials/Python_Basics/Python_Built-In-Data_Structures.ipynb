{
 "cells": [
  {
   "cell_type": "markdown",
   "metadata": {
    "id": "JY7x-LVSTDP-"
   },
   "source": [
    "# Python Built-In Data Structures"
   ]
  },
  {
   "cell_type": "markdown",
   "metadata": {
    "id": "MIyFrLvJTDQI"
   },
   "source": [
    "## Lists"
   ]
  },
  {
   "cell_type": "code",
   "execution_count": 1,
   "metadata": {
    "executionInfo": {
     "elapsed": 18,
     "status": "ok",
     "timestamp": 1622473085121,
     "user": {
      "displayName": "Ignacio Soteras",
      "photoUrl": "",
      "userId": "02050793736257155229"
     },
     "user_tz": -120
    },
    "id": "2J8i6qNsTDQJ"
   },
   "outputs": [],
   "source": [
    "TAs = [\"Peter\", \"Javier\"]"
   ]
  },
  {
   "cell_type": "code",
   "execution_count": 2,
   "metadata": {
    "colab": {
     "base_uri": "https://localhost:8080/"
    },
    "executionInfo": {
     "elapsed": 19,
     "status": "ok",
     "timestamp": 1622473085122,
     "user": {
      "displayName": "Ignacio Soteras",
      "photoUrl": "",
      "userId": "02050793736257155229"
     },
     "user_tz": -120
    },
    "id": "VsijzkPuTDQJ",
    "outputId": "df24f51f-51f4-4037-ec13-0db545f4a6e7"
   },
   "outputs": [
    {
     "data": {
      "text/plain": [
       "list"
      ]
     },
     "execution_count": 2,
     "metadata": {},
     "output_type": "execute_result"
    }
   ],
   "source": [
    "type(TAs)"
   ]
  },
  {
   "cell_type": "code",
   "execution_count": 3,
   "metadata": {
    "colab": {
     "base_uri": "https://localhost:8080/"
    },
    "executionInfo": {
     "elapsed": 17,
     "status": "ok",
     "timestamp": 1622473085124,
     "user": {
      "displayName": "Ignacio Soteras",
      "photoUrl": "",
      "userId": "02050793736257155229"
     },
     "user_tz": -120
    },
    "id": "jtALFccsTDQJ",
    "outputId": "086363c6-f6fd-46a2-ec07-b306dab6e649"
   },
   "outputs": [
    {
     "data": {
      "text/plain": [
       "['Peter', 'Javier']"
      ]
     },
     "execution_count": 3,
     "metadata": {},
     "output_type": "execute_result"
    }
   ],
   "source": [
    "TAs"
   ]
  },
  {
   "cell_type": "markdown",
   "metadata": {
    "id": "QtkkNP8iTDQJ"
   },
   "source": [
    "#### Indexing, slicing, appending"
   ]
  },
  {
   "cell_type": "code",
   "execution_count": 10,
   "metadata": {
    "colab": {
     "base_uri": "https://localhost:8080/",
     "height": 35
    },
    "executionInfo": {
     "elapsed": 284,
     "status": "ok",
     "timestamp": 1622473088463,
     "user": {
      "displayName": "Ignacio Soteras",
      "photoUrl": "",
      "userId": "02050793736257155229"
     },
     "user_tz": -120
    },
    "id": "vUSQsqvfTDQJ",
    "outputId": "b6a37a76-2fc4-4ebc-8ae7-e8db5eb65512",
    "scrolled": true
   },
   "outputs": [
    {
     "data": {
      "text/plain": [
       "'Peter'"
      ]
     },
     "execution_count": 10,
     "metadata": {},
     "output_type": "execute_result"
    }
   ],
   "source": [
    "TAs[0]"
   ]
  },
  {
   "cell_type": "code",
   "execution_count": 11,
   "metadata": {
    "executionInfo": {
     "elapsed": 204,
     "status": "ok",
     "timestamp": 1622473174149,
     "user": {
      "displayName": "Ignacio Soteras",
      "photoUrl": "",
      "userId": "02050793736257155229"
     },
     "user_tz": -120
    },
    "id": "BYiMKablTDQK"
   },
   "outputs": [],
   "source": [
    "LT = \"Aleks\""
   ]
  },
  {
   "cell_type": "code",
   "execution_count": 6,
   "metadata": {
    "executionInfo": {
     "elapsed": 255,
     "status": "ok",
     "timestamp": 1622473182772,
     "user": {
      "displayName": "Ignacio Soteras",
      "photoUrl": "",
      "userId": "02050793736257155229"
     },
     "user_tz": -120
    },
    "id": "E1ylBEgbTDQK"
   },
   "outputs": [],
   "source": [
    "teachers = [LT] + TAs"
   ]
  },
  {
   "cell_type": "code",
   "execution_count": 7,
   "metadata": {},
   "outputs": [
    {
     "data": {
      "text/plain": [
       "['Aleks', 'Peter', 'Javier']"
      ]
     },
     "execution_count": 7,
     "metadata": {},
     "output_type": "execute_result"
    }
   ],
   "source": [
    "teachers"
   ]
  },
  {
   "cell_type": "code",
   "execution_count": 8,
   "metadata": {
    "colab": {
     "base_uri": "https://localhost:8080/"
    },
    "executionInfo": {
     "elapsed": 6,
     "status": "ok",
     "timestamp": 1622473186279,
     "user": {
      "displayName": "Ignacio Soteras",
      "photoUrl": "",
      "userId": "02050793736257155229"
     },
     "user_tz": -120
    },
    "id": "KfonezThTDQL",
    "outputId": "0eb5bf4b-6583-41e8-e2a6-707516bf2eee",
    "scrolled": true
   },
   "outputs": [
    {
     "name": "stdout",
     "output_type": "stream",
     "text": [
      "['Aleks', 'Peter', 'Javier']\n"
     ]
    }
   ],
   "source": [
    "print(teachers)"
   ]
  },
  {
   "cell_type": "code",
   "execution_count": 9,
   "metadata": {
    "colab": {
     "base_uri": "https://localhost:8080/"
    },
    "executionInfo": {
     "elapsed": 191,
     "status": "ok",
     "timestamp": 1622473189102,
     "user": {
      "displayName": "Ignacio Soteras",
      "photoUrl": "",
      "userId": "02050793736257155229"
     },
     "user_tz": -120
    },
    "id": "n8dt1kc6TDQL",
    "outputId": "0926e0e7-005c-4422-c1db-6c8fe2492b1c"
   },
   "outputs": [
    {
     "data": {
      "text/plain": [
       "3"
      ]
     },
     "execution_count": 9,
     "metadata": {},
     "output_type": "execute_result"
    }
   ],
   "source": [
    "len(teachers)"
   ]
  },
  {
   "cell_type": "code",
   "execution_count": 12,
   "metadata": {},
   "outputs": [
    {
     "data": {
      "text/plain": [
       "['Peter', 'Javier', 'Alejandro']"
      ]
     },
     "execution_count": 12,
     "metadata": {},
     "output_type": "execute_result"
    }
   ],
   "source": [
    "TAs.append(\"Alejandro\")\n",
    "TAs"
   ]
  },
  {
   "cell_type": "code",
   "execution_count": 13,
   "metadata": {},
   "outputs": [
    {
     "data": {
      "text/plain": [
       "'Alejandro'"
      ]
     },
     "execution_count": 13,
     "metadata": {},
     "output_type": "execute_result"
    }
   ],
   "source": [
    "TAs[2]"
   ]
  },
  {
   "cell_type": "markdown",
   "metadata": {
    "id": "1A_2ABUuTDQL"
   },
   "source": [
    "#### Iterating through lists"
   ]
  },
  {
   "cell_type": "code",
   "execution_count": 14,
   "metadata": {
    "colab": {
     "base_uri": "https://localhost:8080/"
    },
    "executionInfo": {
     "elapsed": 213,
     "status": "ok",
     "timestamp": 1622473196196,
     "user": {
      "displayName": "Ignacio Soteras",
      "photoUrl": "",
      "userId": "02050793736257155229"
     },
     "user_tz": -120
    },
    "id": "Wst_o9gNTDQL",
    "outputId": "0e120fe9-63a8-4c08-9f1f-b6adc00ff894",
    "scrolled": true
   },
   "outputs": [
    {
     "name": "stdout",
     "output_type": "stream",
     "text": [
      "Aleks is a teacher!\n",
      "Peter is a teacher!\n",
      "Javier is a teacher!\n"
     ]
    }
   ],
   "source": [
    "for teacher in teachers:\n",
    "    print(teacher + \" is a teacher!\")"
   ]
  },
  {
   "cell_type": "code",
   "execution_count": 15,
   "metadata": {},
   "outputs": [
    {
     "ename": "SyntaxError",
     "evalue": "invalid syntax (Temp/ipykernel_61976/4139768201.py, line 1)",
     "output_type": "error",
     "traceback": [
      "\u001b[1;36m  File \u001b[1;32m\"C:\\Users\\javie\\AppData\\Local\\Temp/ipykernel_61976/4139768201.py\"\u001b[1;36m, line \u001b[1;32m1\u001b[0m\n\u001b[1;33m    teacher for teacher in teachers\u001b[0m\n\u001b[1;37m            ^\u001b[0m\n\u001b[1;31mSyntaxError\u001b[0m\u001b[1;31m:\u001b[0m invalid syntax\n"
     ]
    }
   ],
   "source": [
    "teacher for teacher in teachers"
   ]
  },
  {
   "cell_type": "code",
   "execution_count": 18,
   "metadata": {},
   "outputs": [],
   "source": [
    "students=[\"Ahmet Salih Yurdakul\",\"Ajay Krishna\", \"Aycha Kurtulush-Tanriverdi\", \n",
    "          \"Danilo Giarlini Giarlini\", \"David Guillet\", \"Duo Deng Deng\", \n",
    "          \"Erica D'alessandro Junho De Lemos\", \"Hanna Weidemann\", \"Henrik Gerhard\", \n",
    "          \"Laurens Duin\", \"Leo Krohne\", \"Lukas Bauerschmidt\", \"Markus Schmidt\", \n",
    "          \"Miguel Lucia Bayer\", \"Nilgun Bayrakdar Sadik\", \"Oksana Leigh\", \"Pedro Da Rocha Paes Pinto\", \n",
    "          \"Pengcheng Zhang\", \"Poppy Nevin\", \"Shola Popoola\", \"Simone Broggini\", \"Vivek Ramachandran\", \"Vladislav Lis\"]\n"
   ]
  },
  {
   "cell_type": "code",
   "execution_count": 19,
   "metadata": {},
   "outputs": [
    {
     "data": {
      "text/plain": [
       "['Ahmet Salih Yurdakul',\n",
       " 'Ajay Krishna',\n",
       " 'Aycha Kurtulush-Tanriverdi',\n",
       " 'Danilo Giarlini Giarlini',\n",
       " 'David Guillet',\n",
       " 'Duo Deng Deng',\n",
       " \"Erica D'alessandro Junho De Lemos\",\n",
       " 'Hanna Weidemann',\n",
       " 'Henrik Gerhard',\n",
       " 'Laurens Duin',\n",
       " 'Leo Krohne',\n",
       " 'Lukas Bauerschmidt',\n",
       " 'Markus Schmidt',\n",
       " 'Miguel Lucia Bayer',\n",
       " 'Nilgun Bayrakdar Sadik',\n",
       " 'Oksana Leigh',\n",
       " 'Pedro Da Rocha Paes Pinto',\n",
       " 'Pengcheng Zhang',\n",
       " 'Poppy Nevin',\n",
       " 'Shola Popoola',\n",
       " 'Simone Broggini',\n",
       " 'Vivek Ramachandran',\n",
       " 'Vladislav Lis']"
      ]
     },
     "execution_count": 19,
     "metadata": {},
     "output_type": "execute_result"
    }
   ],
   "source": [
    "students"
   ]
  },
  {
   "cell_type": "markdown",
   "metadata": {
    "id": "31rHy2z_TDQM"
   },
   "source": [
    "#### Print students with names ending with a"
   ]
  },
  {
   "cell_type": "code",
   "execution_count": 21,
   "metadata": {
    "colab": {
     "base_uri": "https://localhost:8080/"
    },
    "executionInfo": {
     "elapsed": 175,
     "status": "ok",
     "timestamp": 1622473280584,
     "user": {
      "displayName": "Ignacio Soteras",
      "photoUrl": "",
      "userId": "02050793736257155229"
     },
     "user_tz": -120
    },
    "id": "1N1PpjKuTDQM",
    "outputId": "a155befe-d557-42c7-fbbe-e964aa342b15"
   },
   "outputs": [
    {
     "name": "stdout",
     "output_type": "stream",
     "text": [
      "Vivek Ramachandran\n"
     ]
    }
   ],
   "source": [
    "for student in students:\n",
    "    if ( student[-2]=='a'):\n",
    "        print(student)"
   ]
  },
  {
   "cell_type": "markdown",
   "metadata": {
    "id": "CxU-y1wDTDQM"
   },
   "source": [
    "#### Create two lists: \"student_names\" and \"student_surnames\""
   ]
  },
  {
   "cell_type": "code",
   "execution_count": 30,
   "metadata": {
    "executionInfo": {
     "elapsed": 174,
     "status": "ok",
     "timestamp": 1622473300972,
     "user": {
      "displayName": "Ignacio Soteras",
      "photoUrl": "",
      "userId": "02050793736257155229"
     },
     "user_tz": -120
    },
    "id": "DPrp4qT7TDQM"
   },
   "outputs": [],
   "source": [
    "student_names = []\n",
    "student_surnames = []"
   ]
  },
  {
   "cell_type": "code",
   "execution_count": 31,
   "metadata": {},
   "outputs": [
    {
     "data": {
      "text/plain": [
       "['Ahmet',\n",
       " 'Ajay',\n",
       " 'Aycha',\n",
       " 'Danilo',\n",
       " 'David',\n",
       " 'Duo',\n",
       " 'Erica',\n",
       " 'Hanna',\n",
       " 'Henrik',\n",
       " 'Laurens',\n",
       " 'Leo',\n",
       " 'Lukas',\n",
       " 'Markus',\n",
       " 'Miguel',\n",
       " 'Nilgun',\n",
       " 'Oksana',\n",
       " 'Pedro',\n",
       " 'Pengcheng',\n",
       " 'Poppy',\n",
       " 'Shola',\n",
       " 'Simone',\n",
       " 'Vivek',\n",
       " 'Vladislav']"
      ]
     },
     "execution_count": 31,
     "metadata": {},
     "output_type": "execute_result"
    }
   ],
   "source": [
    "for student in students:\n",
    "    student_split = student.split()\n",
    "    student_names.append(student_split[0])\n",
    "student_names"
   ]
  },
  {
   "cell_type": "code",
   "execution_count": 34,
   "metadata": {
    "executionInfo": {
     "elapsed": 223,
     "status": "ok",
     "timestamp": 1622473346219,
     "user": {
      "displayName": "Ignacio Soteras",
      "photoUrl": "",
      "userId": "02050793736257155229"
     },
     "user_tz": -120
    },
    "id": "8p2RWHmETDQN",
    "scrolled": true
   },
   "outputs": [],
   "source": [
    "for student in students:\n",
    "    student_split = student.split()\n",
    "    ## populating the first names \n",
    "    student_names.append(student_split[0])\n",
    "    ## populating the seond list which contains the last names \n",
    "    student_surnames.append(student_split[1])"
   ]
  },
  {
   "cell_type": "code",
   "execution_count": 35,
   "metadata": {},
   "outputs": [
    {
     "data": {
      "text/plain": [
       "['Ahmet',\n",
       " 'Ajay',\n",
       " 'Aycha',\n",
       " 'Danilo',\n",
       " 'David',\n",
       " 'Duo',\n",
       " 'Erica',\n",
       " 'Hanna',\n",
       " 'Henrik',\n",
       " 'Laurens',\n",
       " 'Leo',\n",
       " 'Lukas',\n",
       " 'Markus',\n",
       " 'Miguel',\n",
       " 'Nilgun',\n",
       " 'Oksana',\n",
       " 'Pedro',\n",
       " 'Pengcheng',\n",
       " 'Poppy',\n",
       " 'Shola',\n",
       " 'Simone',\n",
       " 'Vivek',\n",
       " 'Vladislav',\n",
       " 'Ahmet',\n",
       " 'Ajay',\n",
       " 'Aycha',\n",
       " 'Danilo',\n",
       " 'David',\n",
       " 'Duo',\n",
       " 'Erica',\n",
       " 'Hanna',\n",
       " 'Henrik',\n",
       " 'Laurens',\n",
       " 'Leo',\n",
       " 'Lukas',\n",
       " 'Markus',\n",
       " 'Miguel',\n",
       " 'Nilgun',\n",
       " 'Oksana',\n",
       " 'Pedro',\n",
       " 'Pengcheng',\n",
       " 'Poppy',\n",
       " 'Shola',\n",
       " 'Simone',\n",
       " 'Vivek',\n",
       " 'Vladislav']"
      ]
     },
     "execution_count": 35,
     "metadata": {},
     "output_type": "execute_result"
    }
   ],
   "source": [
    "student_names"
   ]
  },
  {
   "cell_type": "markdown",
   "metadata": {
    "id": "JXR4QJ23TDQN"
   },
   "source": [
    "#### Print the surname for \"\"."
   ]
  },
  {
   "cell_type": "code",
   "execution_count": 36,
   "metadata": {
    "executionInfo": {
     "elapsed": 226,
     "status": "ok",
     "timestamp": 1622473381036,
     "user": {
      "displayName": "Ignacio Soteras",
      "photoUrl": "",
      "userId": "02050793736257155229"
     },
     "user_tz": -120
    },
    "id": "xQaXwv8iTDQN"
   },
   "outputs": [],
   "source": [
    "index_student = student_names.index(\"Laurens\")"
   ]
  },
  {
   "cell_type": "code",
   "execution_count": 37,
   "metadata": {
    "colab": {
     "base_uri": "https://localhost:8080/"
    },
    "executionInfo": {
     "elapsed": 190,
     "status": "ok",
     "timestamp": 1622473388002,
     "user": {
      "displayName": "Ignacio Soteras",
      "photoUrl": "",
      "userId": "02050793736257155229"
     },
     "user_tz": -120
    },
    "id": "gE7FojgwTDQN",
    "outputId": "bf44adfd-08fd-4121-e227-aebe98d87432"
   },
   "outputs": [
    {
     "data": {
      "text/plain": [
       "'Duin'"
      ]
     },
     "execution_count": 37,
     "metadata": {},
     "output_type": "execute_result"
    }
   ],
   "source": [
    "student_surnames[index_student]"
   ]
  },
  {
   "cell_type": "code",
   "execution_count": 20,
   "metadata": {
    "colab": {
     "base_uri": "https://localhost:8080/",
     "height": 165
    },
    "executionInfo": {
     "elapsed": 181,
     "status": "error",
     "timestamp": 1622473451163,
     "user": {
      "displayName": "Ignacio Soteras",
      "photoUrl": "",
      "userId": "02050793736257155229"
     },
     "user_tz": -120
    },
    "id": "810NkCwLTDQO",
    "outputId": "e2da173f-eec5-422d-c933-e885bb5e4cef"
   },
   "outputs": [
    {
     "name": "stdout",
     "output_type": "stream",
     "text": [
      "['Ahmet', 'Ajay', 'Aycha', 'Danilo', 'David', 'Duo', 'Erica', 'Hanna', 'Henrik', 'Laurens', 'Leo', 'Lukas', 'Markus', 'Miguel', 'Nilgun', 'Oksana', 'Pedro', 'Pengcheng', 'Poppy', 'Shola', 'Simone', 'Vivek', 'Vladislav']\n",
      "Select one of the following names: Ahmet\n"
     ]
    },
    {
     "data": {
      "text/plain": [
       "'Ahmet'"
      ]
     },
     "execution_count": 20,
     "metadata": {},
     "output_type": "execute_result"
    }
   ],
   "source": [
    "print(student_names)\n",
    "input(\"Select one of the following names: \")"
   ]
  },
  {
   "cell_type": "markdown",
   "metadata": {
    "id": "cIXAV-1PTDQP"
   },
   "source": [
    "## Dictionaries"
   ]
  },
  {
   "cell_type": "code",
   "execution_count": 38,
   "metadata": {
    "executionInfo": {
     "elapsed": 584,
     "status": "ok",
     "timestamp": 1622473465407,
     "user": {
      "displayName": "Ignacio Soteras",
      "photoUrl": "",
      "userId": "02050793736257155229"
     },
     "user_tz": -120
    },
    "id": "64vPaY7sTDQP"
   },
   "outputs": [],
   "source": [
    "ages = {\"Javier\": 19,\n",
    "        \"Aleks\":18,\n",
    "        \"Peter\":21\n",
    "       }"
   ]
  },
  {
   "cell_type": "code",
   "execution_count": 39,
   "metadata": {
    "colab": {
     "base_uri": "https://localhost:8080/"
    },
    "executionInfo": {
     "elapsed": 183,
     "status": "ok",
     "timestamp": 1622473466950,
     "user": {
      "displayName": "Ignacio Soteras",
      "photoUrl": "",
      "userId": "02050793736257155229"
     },
     "user_tz": -120
    },
    "id": "yEvwOw78TDQQ",
    "outputId": "221446d9-707d-4bb0-9cdd-83f8d6a5e7c7"
   },
   "outputs": [
    {
     "data": {
      "text/plain": [
       "{'Javier': 19, 'Aleks': 18, 'Peter': 21}"
      ]
     },
     "execution_count": 39,
     "metadata": {},
     "output_type": "execute_result"
    }
   ],
   "source": [
    "ages"
   ]
  },
  {
   "cell_type": "markdown",
   "metadata": {
    "id": "dWATnEg2TDQQ"
   },
   "source": [
    "#### Accessing keys & values"
   ]
  },
  {
   "cell_type": "code",
   "execution_count": 40,
   "metadata": {},
   "outputs": [
    {
     "data": {
      "text/plain": [
       "['Javier', 'Aleks', 'Peter']"
      ]
     },
     "execution_count": 40,
     "metadata": {},
     "output_type": "execute_result"
    }
   ],
   "source": [
    "list(ages.keys())"
   ]
  },
  {
   "cell_type": "code",
   "execution_count": 34,
   "metadata": {
    "colab": {
     "base_uri": "https://localhost:8080/"
    },
    "executionInfo": {
     "elapsed": 460,
     "status": "ok",
     "timestamp": 1622473471802,
     "user": {
      "displayName": "Ignacio Soteras",
      "photoUrl": "",
      "userId": "02050793736257155229"
     },
     "user_tz": -120
    },
    "id": "OL50u8Z5TDQQ",
    "outputId": "ea8d000c-463e-4dcc-ac70-49068e0ee89f"
   },
   "outputs": [
    {
     "data": {
      "text/plain": [
       "'Javier'"
      ]
     },
     "execution_count": 34,
     "metadata": {},
     "output_type": "execute_result"
    }
   ],
   "source": [
    "list(ages.keys())[0]"
   ]
  },
  {
   "cell_type": "code",
   "execution_count": 35,
   "metadata": {
    "colab": {
     "base_uri": "https://localhost:8080/"
    },
    "executionInfo": {
     "elapsed": 185,
     "status": "ok",
     "timestamp": 1622473473916,
     "user": {
      "displayName": "Ignacio Soteras",
      "photoUrl": "",
      "userId": "02050793736257155229"
     },
     "user_tz": -120
    },
    "id": "bbRuYJj4TDQQ",
    "outputId": "c8754e66-e92d-46f7-8173-c70a2b5c9563"
   },
   "outputs": [
    {
     "data": {
      "text/plain": [
       "[19, 18, 21]"
      ]
     },
     "execution_count": 35,
     "metadata": {},
     "output_type": "execute_result"
    }
   ],
   "source": [
    "list(ages.values())"
   ]
  },
  {
   "cell_type": "code",
   "execution_count": 37,
   "metadata": {
    "colab": {
     "base_uri": "https://localhost:8080/"
    },
    "executionInfo": {
     "elapsed": 185,
     "status": "ok",
     "timestamp": 1622473501910,
     "user": {
      "displayName": "Ignacio Soteras",
      "photoUrl": "",
      "userId": "02050793736257155229"
     },
     "user_tz": -120
    },
    "id": "HM2bZ45FTDQQ",
    "outputId": "cc4bcd1d-25a8-4d0a-dfa0-7c60d74a9430"
   },
   "outputs": [
    {
     "data": {
      "text/plain": [
       "21"
      ]
     },
     "execution_count": 37,
     "metadata": {},
     "output_type": "execute_result"
    }
   ],
   "source": [
    "ages[\"Peter\"]"
   ]
  },
  {
   "cell_type": "code",
   "execution_count": 38,
   "metadata": {
    "colab": {
     "base_uri": "https://localhost:8080/"
    },
    "executionInfo": {
     "elapsed": 7,
     "status": "ok",
     "timestamp": 1622473505403,
     "user": {
      "displayName": "Ignacio Soteras",
      "photoUrl": "",
      "userId": "02050793736257155229"
     },
     "user_tz": -120
    },
    "id": "t4AeOE1LTDQQ",
    "outputId": "b654e029-57b4-45d6-ebae-75f165a9d4d8"
   },
   "outputs": [
    {
     "data": {
      "text/plain": [
       "3"
      ]
     },
     "execution_count": 38,
     "metadata": {},
     "output_type": "execute_result"
    }
   ],
   "source": [
    "len(ages)"
   ]
  },
  {
   "cell_type": "markdown",
   "metadata": {
    "id": "S71yWy_TTDQR"
   },
   "source": [
    "#### Iterate through dictionary"
   ]
  },
  {
   "cell_type": "code",
   "execution_count": 39,
   "metadata": {
    "colab": {
     "base_uri": "https://localhost:8080/"
    },
    "executionInfo": {
     "elapsed": 211,
     "status": "ok",
     "timestamp": 1622473509042,
     "user": {
      "displayName": "Ignacio Soteras",
      "photoUrl": "",
      "userId": "02050793736257155229"
     },
     "user_tz": -120
    },
    "id": "sHWZ_EgyTDQR",
    "outputId": "a4fcf246-c7da-4b65-f86c-1d75b8df11e8",
    "scrolled": true
   },
   "outputs": [
    {
     "name": "stdout",
     "output_type": "stream",
     "text": [
      "Javier is 19 years old.\n",
      "Aleks is 18 years old.\n",
      "Peter is 21 years old.\n"
     ]
    }
   ],
   "source": [
    "for teacher in ages.keys():\n",
    "    print(teacher + \" is \" + str(ages[teacher]) + \" years old.\")"
   ]
  },
  {
   "cell_type": "markdown",
   "metadata": {},
   "source": [
    "<b> iterating using items() function"
   ]
  },
  {
   "cell_type": "code",
   "execution_count": 40,
   "metadata": {},
   "outputs": [
    {
     "name": "stdout",
     "output_type": "stream",
     "text": [
      "Javier is 19 years old \n",
      "Aleks is 18 years old \n",
      "Peter is 21 years old \n"
     ]
    }
   ],
   "source": [
    "for teacher,age in ages.items():\n",
    "    print (teacher + \" is \"+ str(age) +\" years old \")"
   ]
  },
  {
   "cell_type": "markdown",
   "metadata": {
    "id": "_1gzqo1QTDQR"
   },
   "source": [
    "#### Nested dictionaries\n",
    "\n",
    "Create a dictionary of teachers. For it teacher, it stores their age, role and the city where they live."
   ]
  },
  {
   "cell_type": "code",
   "execution_count": 45,
   "metadata": {
    "executionInfo": {
     "elapsed": 303,
     "status": "ok",
     "timestamp": 1622473514773,
     "user": {
      "displayName": "Ignacio Soteras",
      "photoUrl": "",
      "userId": "02050793736257155229"
     },
     "user_tz": -120
    },
    "id": "yRQg_TmATDQR"
   },
   "outputs": [],
   "source": [
    "teachers_dict = {\n",
    "    \"Peter\":{\n",
    "        \"age\": 21,\n",
    "        \"role\":\"TA\",\n",
    "        \"city_residence\":\"NYC\"\n",
    "    },\n",
    "    \"Aleks\":{\n",
    "        \"age\":18,\n",
    "        \"role\":\"LT\",\n",
    "        \"city_residence\":\"Berlin\"\n",
    "    },\n",
    "    \"Javier\":{\n",
    "        \"age\": 19,\n",
    "        \"role\":\"TA\",\n",
    "        \"city_residence\":\"San Luis\"\n",
    "    }\n",
    "}"
   ]
  },
  {
   "cell_type": "markdown",
   "metadata": {
    "id": "dk6riaYKTDQS"
   },
   "source": [
    "#### Print only name of teachers who live in Berlin"
   ]
  },
  {
   "cell_type": "code",
   "execution_count": 46,
   "metadata": {
    "colab": {
     "base_uri": "https://localhost:8080/"
    },
    "executionInfo": {
     "elapsed": 208,
     "status": "ok",
     "timestamp": 1622473548181,
     "user": {
      "displayName": "Ignacio Soteras",
      "photoUrl": "",
      "userId": "02050793736257155229"
     },
     "user_tz": -120
    },
    "id": "O3eKDMrwTDQS",
    "outputId": "57836f73-2e02-47b8-f445-014c536a3676"
   },
   "outputs": [
    {
     "name": "stdout",
     "output_type": "stream",
     "text": [
      "Aleks lives in Berlin\n"
     ]
    }
   ],
   "source": [
    "for teacher in teachers_dict.keys():\n",
    "    teacher_Info=teachers_dict[teacher]\n",
    "    if teacher_Info[\"city_residence\"] == \"Berlin\":\n",
    "        print(teacher + \" lives in Berlin\")"
   ]
  },
  {
   "cell_type": "markdown",
   "metadata": {
    "id": "6doqUoN5TDQS"
   },
   "source": [
    "## Tuples"
   ]
  },
  {
   "cell_type": "code",
   "execution_count": 47,
   "metadata": {},
   "outputs": [
    {
     "data": {
      "text/plain": [
       "['Aleks', 'Peter', 'Javier']"
      ]
     },
     "execution_count": 47,
     "metadata": {},
     "output_type": "execute_result"
    }
   ],
   "source": [
    "teachers"
   ]
  },
  {
   "cell_type": "code",
   "execution_count": 48,
   "metadata": {
    "executionInfo": {
     "elapsed": 187,
     "status": "ok",
     "timestamp": 1622473550845,
     "user": {
      "displayName": "Ignacio Soteras",
      "photoUrl": "",
      "userId": "02050793736257155229"
     },
     "user_tz": -120
    },
    "id": "gK_39kH5TDQS"
   },
   "outputs": [],
   "source": [
    "teachers_tuple = tuple(teachers)"
   ]
  },
  {
   "cell_type": "code",
   "execution_count": 49,
   "metadata": {
    "colab": {
     "base_uri": "https://localhost:8080/"
    },
    "executionInfo": {
     "elapsed": 178,
     "status": "ok",
     "timestamp": 1622473553778,
     "user": {
      "displayName": "Ignacio Soteras",
      "photoUrl": "",
      "userId": "02050793736257155229"
     },
     "user_tz": -120
    },
    "id": "QvOFIe_ZTDQS",
    "outputId": "95053103-1525-4d2b-f3a5-39e0d185555c"
   },
   "outputs": [
    {
     "data": {
      "text/plain": [
       "('Aleks', 'Peter', 'Javier')"
      ]
     },
     "execution_count": 49,
     "metadata": {},
     "output_type": "execute_result"
    }
   ],
   "source": [
    "teachers_tuple"
   ]
  },
  {
   "cell_type": "code",
   "execution_count": 50,
   "metadata": {
    "colab": {
     "base_uri": "https://localhost:8080/",
     "height": 165
    },
    "executionInfo": {
     "elapsed": 195,
     "status": "error",
     "timestamp": 1622473556716,
     "user": {
      "displayName": "Ignacio Soteras",
      "photoUrl": "",
      "userId": "02050793736257155229"
     },
     "user_tz": -120
    },
    "id": "cnE-tjTDTDQS",
    "outputId": "f90f84e3-06ad-4642-a1cb-86a9dc6a10b2"
   },
   "outputs": [
    {
     "ename": "TypeError",
     "evalue": "'tuple' object does not support item assignment",
     "output_type": "error",
     "traceback": [
      "\u001b[1;31m---------------------------------------------------------------------------\u001b[0m",
      "\u001b[1;31mTypeError\u001b[0m                                 Traceback (most recent call last)",
      "\u001b[1;32m~\\AppData\\Local\\Temp/ipykernel_6624/3041798402.py\u001b[0m in \u001b[0;36m<module>\u001b[1;34m\u001b[0m\n\u001b[1;32m----> 1\u001b[1;33m \u001b[0mteachers_tuple\u001b[0m\u001b[1;33m[\u001b[0m\u001b[1;36m1\u001b[0m\u001b[1;33m]\u001b[0m \u001b[1;33m=\u001b[0m \u001b[1;34m\"Jan\"\u001b[0m\u001b[1;33m\u001b[0m\u001b[1;33m\u001b[0m\u001b[0m\n\u001b[0m",
      "\u001b[1;31mTypeError\u001b[0m: 'tuple' object does not support item assignment"
     ]
    }
   ],
   "source": [
    "teachers_tuple[1] = \"Jan\""
   ]
  },
  {
   "cell_type": "markdown",
   "metadata": {},
   "source": [
    "## Set"
   ]
  },
  {
   "cell_type": "code",
   "execution_count": 41,
   "metadata": {
    "executionInfo": {
     "elapsed": 494,
     "status": "ok",
     "timestamp": 1622473577875,
     "user": {
      "displayName": "Ignacio Soteras",
      "photoUrl": "",
      "userId": "02050793736257155229"
     },
     "user_tz": -120
    },
    "id": "QBweWu4UTDQT"
   },
   "outputs": [],
   "source": [
    "import random"
   ]
  },
  {
   "cell_type": "code",
   "execution_count": 42,
   "metadata": {
    "colab": {
     "base_uri": "https://localhost:8080/"
    },
    "executionInfo": {
     "elapsed": 6,
     "status": "ok",
     "timestamp": 1622473578608,
     "user": {
      "displayName": "Ignacio Soteras",
      "photoUrl": "",
      "userId": "02050793736257155229"
     },
     "user_tz": -120
    },
    "id": "hhP9CcPHTDQT",
    "outputId": "23b5bce4-afb0-4b29-8011-0813cbe38a5a"
   },
   "outputs": [
    {
     "data": {
      "text/plain": [
       "48"
      ]
     },
     "execution_count": 42,
     "metadata": {},
     "output_type": "execute_result"
    }
   ],
   "source": [
    "random.randint(1, 100)"
   ]
  },
  {
   "cell_type": "markdown",
   "metadata": {
    "id": "hBrTNpyUTDQU"
   },
   "source": [
    "#### Take a random sample (with replacement) of 100 numbers from 1 to 100:"
   ]
  },
  {
   "cell_type": "code",
   "execution_count": 48,
   "metadata": {
    "executionInfo": {
     "elapsed": 224,
     "status": "ok",
     "timestamp": 1622473582781,
     "user": {
      "displayName": "Ignacio Soteras",
      "photoUrl": "",
      "userId": "02050793736257155229"
     },
     "user_tz": -120
    },
    "id": "SDb3qAkmTDQU"
   },
   "outputs": [],
   "source": [
    "random_numbers = []\n",
    "\n",
    "for i in range(100):\n",
    "    random_numbers.append(random.randint(1, 100))"
   ]
  },
  {
   "cell_type": "code",
   "execution_count": 49,
   "metadata": {
    "colab": {
     "base_uri": "https://localhost:8080/"
    },
    "executionInfo": {
     "elapsed": 8,
     "status": "ok",
     "timestamp": 1622473584392,
     "user": {
      "displayName": "Ignacio Soteras",
      "photoUrl": "",
      "userId": "02050793736257155229"
     },
     "user_tz": -120
    },
    "id": "9Tyj_KOOTDQU",
    "outputId": "e1ed6a93-c1fa-45e4-95d6-bf4669e6c76b",
    "scrolled": true
   },
   "outputs": [
    {
     "data": {
      "text/plain": [
       "[47,\n",
       " 64,\n",
       " 6,\n",
       " 12,\n",
       " 51,\n",
       " 12,\n",
       " 26,\n",
       " 31,\n",
       " 29,\n",
       " 19,\n",
       " 81,\n",
       " 99,\n",
       " 63,\n",
       " 67,\n",
       " 56,\n",
       " 35,\n",
       " 93,\n",
       " 50,\n",
       " 55,\n",
       " 11,\n",
       " 68,\n",
       " 73,\n",
       " 48,\n",
       " 82,\n",
       " 57,\n",
       " 51,\n",
       " 23,\n",
       " 52,\n",
       " 17,\n",
       " 44,\n",
       " 83,\n",
       " 79,\n",
       " 82,\n",
       " 23,\n",
       " 94,\n",
       " 88,\n",
       " 16,\n",
       " 13,\n",
       " 46,\n",
       " 19,\n",
       " 65,\n",
       " 26,\n",
       " 32,\n",
       " 32,\n",
       " 80,\n",
       " 96,\n",
       " 51,\n",
       " 92,\n",
       " 99,\n",
       " 100,\n",
       " 100,\n",
       " 22,\n",
       " 35,\n",
       " 85,\n",
       " 71,\n",
       " 13,\n",
       " 66,\n",
       " 84,\n",
       " 79,\n",
       " 51,\n",
       " 56,\n",
       " 43,\n",
       " 74,\n",
       " 17,\n",
       " 17,\n",
       " 61,\n",
       " 20,\n",
       " 83,\n",
       " 87,\n",
       " 88,\n",
       " 19,\n",
       " 31,\n",
       " 33,\n",
       " 89,\n",
       " 70,\n",
       " 84,\n",
       " 42,\n",
       " 19,\n",
       " 5,\n",
       " 2,\n",
       " 13,\n",
       " 49,\n",
       " 38,\n",
       " 64,\n",
       " 37,\n",
       " 29,\n",
       " 47,\n",
       " 70,\n",
       " 94,\n",
       " 29,\n",
       " 58,\n",
       " 76,\n",
       " 21,\n",
       " 47,\n",
       " 59,\n",
       " 57,\n",
       " 86,\n",
       " 28,\n",
       " 80,\n",
       " 55]"
      ]
     },
     "execution_count": 49,
     "metadata": {},
     "output_type": "execute_result"
    }
   ],
   "source": [
    "random_numbers"
   ]
  },
  {
   "cell_type": "code",
   "execution_count": 50,
   "metadata": {},
   "outputs": [
    {
     "data": {
      "text/plain": [
       "66"
      ]
     },
     "execution_count": 50,
     "metadata": {},
     "output_type": "execute_result"
    }
   ],
   "source": [
    "len(set(random_numbers))"
   ]
  },
  {
   "cell_type": "markdown",
   "metadata": {},
   "source": [
    "### set union"
   ]
  },
  {
   "cell_type": "code",
   "execution_count": 41,
   "metadata": {},
   "outputs": [
    {
     "data": {
      "text/plain": [
       "{'apple', 'banana', 'cherry', 'google', 'microsoft'}"
      ]
     },
     "execution_count": 41,
     "metadata": {},
     "output_type": "execute_result"
    }
   ],
   "source": [
    "x = {\"apple\", \"banana\", \"cherry\"}\n",
    "y = {\"google\", \"microsoft\", \"apple\"}\n",
    "\n",
    "z = x.union(y)\n",
    "z"
   ]
  },
  {
   "cell_type": "code",
   "execution_count": 58,
   "metadata": {},
   "outputs": [
    {
     "name": "stdout",
     "output_type": "stream",
     "text": [
      "[[59, 5, 53, 47, 41, 42, 24, 27, 67, 74, 29, 39, 62, 10, 82, 75, 88, 70, 91, 0, 49, 23, 92, 84, 37, 81, 12, 99, 20, 78, 87, 48, 28, 38, 6, 64, 80, 26, 56, 68, 25, 7, 3, 14, 58, 72, 66, 31, 21, 89, 34, 97, 33, 51, 85, 2, 63, 98, 79, 57, 17, 44, 40, 90, 16, 35, 45, 50, 65, 96, 9, 8, 69, 93, 94, 46, 71, 55, 52, 83, 54, 13, 36, 61, 4, 1, 76, 22, 15, 77, 86, 73, 60, 19, 32, 43, 95, 18, 30, 11], [53, 18, 55, 70, 15, 34, 81, 74, 1, 67, 59, 32, 95, 65, 21, 52, 97, 49, 14, 98, 11, 92, 82, 85, 23, 44, 31, 99, 90, 20, 69, 22, 91, 86, 61, 45, 28, 66, 17, 78, 68, 77, 10, 84, 8, 43, 24, 25, 37, 79, 4, 6, 72, 5, 94, 2, 50, 29, 13, 89, 3, 42, 26, 87, 64, 7, 48, 80, 0, 96, 88, 9, 39, 40, 60, 38, 16, 63, 75, 33, 35, 73, 46, 30, 41, 58, 62, 93, 47, 83, 57, 27, 54, 76, 12, 36, 56, 51, 71, 19], [74, 23, 80, 99, 2, 58, 54, 32, 65, 39, 12, 75, 91, 84, 81, 92, 77, 28, 46, 16, 44, 38, 48, 3, 78, 89, 52, 73, 34, 50, 95, 19, 59, 20, 33, 56, 60, 27, 87, 55, 13, 31, 10, 17, 85, 82, 66, 49, 43, 15, 79, 61, 69, 53, 42, 24, 18, 64, 51, 63, 26, 76, 70, 86, 30, 22, 5, 67, 6, 88, 68, 71, 62, 25, 90, 37, 83, 47, 40, 57, 4, 94, 14, 96, 7, 97, 9, 21, 36, 35, 93, 41, 0, 98, 29, 1, 8, 72, 45, 11], [42, 79, 95, 55, 54, 21, 49, 91, 4, 94, 88, 76, 83, 62, 99, 92, 67, 80, 27, 8, 70, 14, 18, 34, 61, 40, 86, 59, 51, 66, 47, 12, 57, 78, 46, 19, 73, 65, 71, 93, 45, 68, 53, 5, 60, 84, 16, 56, 25, 75, 28, 85, 31, 10, 13, 69, 44, 33, 82, 98, 26, 17, 64, 23, 24, 89, 30, 38, 20, 15, 32, 39, 43, 52, 48, 0, 81, 97, 41, 63, 22, 90, 3, 11, 77, 2, 37, 50, 7, 1, 36, 6, 35, 96, 9, 87, 72, 58, 29, 74], [13, 60, 3, 51, 80, 71, 22, 64, 44, 68, 90, 25, 93, 99, 18, 92, 94, 48, 7, 58, 52, 88, 75, 1, 10, 91, 28, 98, 8, 66, 86, 42, 34, 63, 67, 59, 43, 81, 37, 49, 47, 50, 95, 55, 97, 11, 41, 21, 15, 83, 36, 31, 5, 20, 85, 27, 39, 96, 78, 69, 87, 35, 61, 30, 19, 14, 45, 4, 53, 57, 2, 0, 38, 6, 54, 65, 73, 46, 29, 56, 79, 23, 74, 72, 33, 12, 89, 77, 82, 16, 32, 40, 17, 70, 24, 84, 26, 76, 9, 62], [18, 95, 51, 11, 80, 15, 92, 3, 46, 25, 10, 2, 8, 55, 89, 71, 72, 39, 75, 97, 7, 61, 60, 38, 9, 65, 29, 52, 1, 64, 53, 76, 66, 70, 82, 85, 78, 13, 20, 23, 91, 59, 32, 57, 26, 27, 84, 56, 93, 77, 50, 31, 86, 63, 99, 62, 73, 6, 98, 81, 36, 33, 47, 96, 79, 37, 69, 16, 54, 28, 5, 42, 12, 22, 44, 0, 35, 58, 14, 49, 34, 83, 67, 48, 30, 41, 68, 4, 90, 87, 45, 24, 94, 19, 21, 74, 17, 40, 88, 43], [73, 93, 29, 0, 88, 92, 9, 25, 79, 49, 46, 76, 64, 69, 4, 58, 11, 81, 86, 35, 99, 87, 50, 22, 2, 47, 24, 60, 7, 75, 19, 57, 34, 51, 56, 71, 30, 15, 21, 83, 17, 94, 18, 82, 72, 13, 37, 28, 52, 77, 91, 66, 59, 10, 31, 40, 48, 80, 53, 78, 42, 43, 16, 5, 39, 90, 63, 74, 70, 20, 55, 27, 38, 54, 14, 95, 67, 62, 45, 33, 84, 98, 3, 1, 85, 6, 26, 12, 96, 41, 65, 61, 97, 23, 32, 68, 36, 8, 89, 44], [33, 71, 68, 8, 83, 17, 29, 94, 41, 84, 30, 16, 12, 82, 40, 74, 54, 97, 45, 18, 10, 36, 92, 23, 9, 11, 19, 46, 2, 95, 48, 56, 4, 64, 69, 80, 14, 78, 6, 60, 47, 89, 52, 13, 44, 86, 59, 98, 67, 58, 87, 3, 77, 32, 79, 21, 57, 72, 76, 66, 20, 91, 34, 0, 53, 81, 27, 24, 39, 22, 61, 49, 5, 55, 65, 1, 62, 85, 73, 50, 42, 51, 63, 90, 35, 96, 7, 88, 25, 99, 26, 43, 15, 31, 75, 70, 93, 37, 38, 28], [48, 57, 13, 56, 1, 91, 80, 89, 38, 66, 90, 51, 82, 30, 53, 78, 73, 33, 86, 69, 39, 95, 85, 92, 29, 40, 54, 41, 0, 19, 6, 63, 52, 76, 46, 99, 25, 18, 14, 42, 79, 15, 9, 26, 77, 35, 3, 84, 96, 27, 50, 43, 37, 81, 34, 83, 44, 62, 75, 20, 24, 2, 36, 60, 22, 98, 72, 4, 61, 74, 31, 16, 23, 64, 5, 28, 68, 17, 65, 58, 8, 32, 49, 93, 21, 87, 55, 88, 11, 7, 10, 47, 59, 71, 67, 12, 70, 94, 45, 97], [33, 73, 84, 22, 42, 12, 55, 93, 85, 30, 71, 98, 21, 16, 56, 10, 58, 43, 57, 35, 61, 9, 95, 66, 76, 34, 48, 28, 69, 60, 23, 86, 67, 26, 92, 83, 51, 6, 52, 65, 64, 14, 68, 5, 15, 75, 47, 31, 46, 20, 38, 96, 97, 17, 53, 72, 3, 40, 25, 18, 94, 74, 19, 32, 8, 62, 41, 4, 2, 45, 89, 24, 81, 91, 78, 7, 27, 79, 39, 44, 11, 13, 80, 99, 36, 0, 29, 90, 87, 70, 88, 49, 82, 63, 54, 50, 37, 1, 59, 77], [9, 83, 32, 42, 51, 73, 99, 22, 53, 21, 77, 90, 58, 57, 40, 95, 79, 13, 14, 64, 11, 5, 70, 85, 96, 47, 15, 98, 35, 41, 75, 52, 81, 16, 92, 97, 38, 26, 61, 50, 1, 88, 7, 63, 48, 49, 66, 31, 54, 78, 27, 4, 12, 72, 69, 62, 6, 24, 18, 82, 37, 86, 36, 89, 2, 56, 29, 30, 67, 10, 39, 33, 93, 20, 19, 65, 17, 8, 3, 94, 76, 71, 59, 91, 23, 60, 87, 74, 55, 44, 68, 46, 43, 0, 45, 28, 25, 34, 80, 84], [11, 81, 32, 20, 85, 37, 54, 70, 68, 39, 14, 31, 52, 55, 57, 56, 97, 82, 90, 88, 67, 80, 29, 86, 7, 51, 84, 62, 10, 23, 69, 0, 75, 43, 46, 26, 63, 60, 92, 93, 38, 30, 73, 96, 33, 13, 17, 45, 79, 41, 3, 15, 89, 87, 76, 24, 12, 58, 91, 1, 48, 65, 74, 83, 35, 22, 50, 78, 28, 5, 47, 72, 40, 77, 71, 99, 19, 53, 18, 95, 6, 64, 49, 42, 2, 59, 98, 66, 27, 44, 36, 9, 61, 21, 94, 4, 34, 25, 8, 16], [97, 64, 80, 14, 87, 44, 9, 43, 27, 0, 2, 99, 31, 37, 82, 40, 7, 29, 22, 83, 76, 23, 3, 38, 89, 68, 34, 48, 47, 65, 10, 50, 55, 94, 96, 91, 75, 33, 42, 74, 53, 62, 98, 57, 13, 17, 67, 36, 72, 51, 69, 90, 35, 32, 77, 56, 46, 93, 58, 54, 78, 20, 41, 4, 86, 88, 39, 63, 21, 52, 71, 73, 79, 49, 25, 28, 81, 6, 85, 8, 95, 18, 61, 59, 24, 5, 16, 92, 15, 60, 84, 11, 30, 12, 70, 66, 19, 45, 26, 1], [57, 87, 53, 26, 73, 63, 17, 79, 98, 85, 13, 96, 12, 58, 48, 60, 75, 88, 10, 9, 67, 14, 18, 39, 27, 37, 42, 43, 41, 38, 65, 16, 93, 23, 66, 34, 74, 99, 5, 62, 55, 4, 92, 81, 52, 8, 68, 95, 76, 6, 35, 69, 46, 1, 89, 97, 64, 40, 72, 44, 70, 3, 82, 61, 90, 91, 94, 54, 86, 7, 2, 22, 77, 11, 51, 36, 32, 49, 31, 56, 24, 30, 45, 47, 50, 83, 59, 0, 25, 33, 19, 80, 84, 21, 78, 29, 15, 28, 71, 20], [1, 51, 38, 64, 2, 98, 70, 86, 58, 25, 28, 44, 8, 57, 17, 3, 71, 47, 48, 53, 61, 52, 65, 34, 4, 41, 73, 40, 23, 89, 78, 37, 26, 69, 84, 14, 83, 97, 35, 31, 27, 0, 42, 39, 80, 55, 91, 77, 79, 22, 75, 82, 43, 90, 9, 49, 81, 93, 95, 36, 87, 85, 66, 13, 12, 24, 11, 88, 67, 76, 32, 94, 46, 6, 15, 54, 99, 59, 50, 21, 63, 68, 7, 18, 10, 5, 45, 16, 20, 30, 92, 62, 33, 96, 19, 72, 56, 29, 60, 74], [39, 4, 57, 40, 77, 92, 28, 96, 61, 78, 16, 58, 91, 99, 75, 8, 65, 71, 90, 52, 98, 26, 12, 25, 67, 80, 33, 45, 32, 47, 22, 62, 3, 29, 46, 50, 7, 66, 41, 53, 81, 54, 69, 30, 19, 48, 35, 76, 83, 13, 9, 82, 72, 1, 10, 21, 11, 24, 60, 37, 68, 88, 79, 64, 6, 63, 70, 93, 74, 97, 73, 20, 14, 31, 85, 95, 89, 38, 18, 5, 23, 56, 0, 55, 42, 49, 84, 2, 44, 87, 94, 59, 17, 34, 43, 51, 15, 27, 86, 36], [49, 84, 94, 24, 82, 80, 73, 93, 92, 11, 44, 46, 19, 79, 37, 20, 95, 5, 21, 7, 99, 71, 45, 96, 6, 50, 39, 2, 33, 30, 53, 70, 3, 40, 8, 90, 67, 54, 27, 57, 83, 12, 77, 26, 28, 34, 78, 15, 42, 36, 86, 55, 16, 41, 14, 38, 59, 29, 13, 18, 35, 81, 76, 4, 72, 58, 22, 98, 56, 9, 60, 87, 0, 25, 74, 65, 64, 51, 32, 47, 1, 88, 61, 52, 63, 17, 97, 89, 10, 75, 31, 91, 66, 23, 68, 85, 69, 48, 62, 43], [67, 36, 92, 16, 71, 69, 46, 53, 86, 80, 18, 24, 75, 9, 91, 39, 48, 28, 33, 60, 84, 83, 27, 3, 90, 10, 77, 89, 23, 14, 12, 7, 43, 44, 0, 73, 95, 61, 50, 96, 68, 87, 45, 13, 82, 1, 74, 32, 79, 15, 37, 41, 64, 17, 85, 25, 98, 54, 47, 11, 2, 76, 5, 70, 58, 88, 62, 78, 97, 94, 93, 35, 72, 59, 99, 81, 30, 57, 22, 26, 6, 21, 40, 56, 31, 34, 38, 49, 29, 63, 55, 51, 65, 42, 4, 19, 8, 52, 66, 20], [86, 23, 75, 61, 77, 29, 68, 52, 53, 80, 81, 44, 18, 39, 91, 65, 64, 2, 49, 1, 26, 46, 24, 15, 60, 55, 67, 93, 88, 94, 57, 35, 58, 95, 62, 99, 41, 89, 90, 92, 79, 25, 13, 56, 72, 0, 51, 30, 43, 21, 54, 83, 17, 59, 97, 50, 45, 66, 8, 27, 3, 34, 22, 31, 74, 47, 73, 70, 6, 82, 36, 76, 84, 33, 42, 98, 78, 14, 40, 96, 12, 20, 71, 5, 87, 63, 48, 37, 38, 11, 69, 85, 7, 32, 16, 28, 10, 19, 9, 4], [3, 14, 50, 38, 45, 16, 31, 51, 77, 81, 60, 92, 9, 13, 99, 2, 65, 70, 88, 28, 64, 40, 39, 53, 32, 48, 68, 43, 52, 44, 0, 90, 69, 71, 49, 58, 23, 10, 93, 20, 24, 18, 82, 62, 66, 63, 30, 89, 54, 98, 22, 26, 47, 55, 74, 86, 12, 37, 4, 8, 6, 61, 36, 21, 15, 33, 17, 73, 41, 29, 87, 59, 11, 5, 56, 25, 96, 27, 75, 95, 97, 78, 80, 7, 57, 34, 35, 94, 85, 42, 72, 46, 91, 83, 67, 1, 84, 19, 79, 76], [21, 53, 58, 31, 43, 80, 25, 15, 39, 63, 97, 64, 13, 57, 46, 5, 32, 29, 94, 20, 78, 96, 54, 74, 2, 19, 9, 70, 75, 7, 52, 89, 60, 91, 90, 8, 4, 41, 42, 77, 18, 72, 37, 38, 82, 10, 92, 79, 83, 61, 16, 30, 40, 35, 55, 27, 86, 22, 34, 49, 3, 17, 67, 50, 76, 68, 36, 87, 85, 98, 95, 99, 11, 81, 44, 69, 51, 56, 26, 71, 24, 33, 88, 23, 45, 0, 28, 6, 73, 84, 48, 59, 93, 12, 65, 1, 62, 47, 14, 66], [55, 63, 10, 67, 76, 71, 98, 97, 70, 39, 84, 4, 31, 92, 89, 48, 72, 74, 14, 30, 95, 50, 8, 62, 96, 19, 64, 17, 78, 58, 33, 94, 2, 27, 66, 18, 57, 28, 87, 35, 47, 36, 61, 43, 40, 44, 91, 77, 23, 7, 80, 81, 20, 26, 21, 49, 68, 52, 42, 34, 69, 65, 25, 6, 53, 13, 88, 73, 99, 45, 46, 32, 1, 93, 75, 15, 56, 12, 29, 60, 24, 0, 5, 41, 9, 59, 86, 82, 51, 16, 54, 83, 38, 79, 90, 11, 22, 3, 37, 85], [46, 35, 79, 59, 55, 63, 7, 25, 89, 39, 15, 66, 88, 2, 52, 23, 40, 34, 1, 64, 14, 19, 86, 51, 10, 26, 53, 38, 21, 3, 6, 13, 0, 9, 43, 24, 99, 47, 5, 68, 20, 49, 83, 32, 37, 16, 50, 72, 30, 62, 18, 95, 58, 81, 33, 87, 73, 57, 98, 74, 69, 54, 80, 94, 27, 96, 28, 78, 12, 22, 75, 8, 85, 91, 93, 29, 11, 60, 67, 71, 44, 61, 70, 76, 42, 36, 48, 82, 97, 45, 84, 56, 90, 77, 65, 4, 41, 31, 92, 17], [16, 48, 52, 42, 55, 35, 77, 58, 6, 87, 83, 40, 79, 70, 94, 20, 29, 4, 14, 90, 21, 2, 59, 64, 72, 41, 33, 31, 80, 54, 88, 86, 12, 62, 36, 69, 15, 60, 74, 9, 97, 19, 63, 49, 7, 5, 18, 84, 51, 66, 89, 38, 78, 37, 95, 26, 46, 8, 65, 32, 11, 76, 30, 44, 24, 3, 23, 56, 96, 34, 93, 47, 1, 68, 82, 61, 67, 22, 27, 99, 85, 0, 98, 45, 13, 71, 53, 57, 75, 10, 50, 25, 81, 91, 43, 39, 28, 17, 92, 73], [30, 18, 15, 86, 97, 34, 38, 47, 55, 96, 49, 46, 17, 7, 81, 60, 12, 24, 33, 32, 0, 16, 28, 88, 74, 68, 1, 83, 93, 22, 52, 58, 78, 23, 90, 92, 20, 19, 14, 87, 51, 98, 36, 79, 57, 75, 89, 37, 31, 50, 61, 25, 80, 73, 65, 54, 85, 71, 35, 44, 4, 48, 77, 45, 41, 2, 3, 99, 67, 84, 26, 95, 53, 66, 72, 59, 62, 29, 42, 27, 76, 9, 13, 39, 82, 64, 5, 94, 10, 63, 40, 6, 91, 11, 70, 8, 21, 56, 43, 69], [4, 15, 44, 87, 7, 51, 88, 12, 45, 43, 86, 30, 36, 80, 73, 94, 60, 92, 90, 68, 29, 78, 40, 65, 46, 10, 93, 21, 31, 71, 53, 49, 0, 38, 5, 81, 74, 17, 76, 47, 77, 25, 11, 57, 42, 52, 59, 33, 3, 67, 6, 95, 84, 8, 37, 83, 34, 85, 1, 19, 98, 48, 32, 9, 72, 22, 18, 62, 23, 79, 82, 2, 97, 63, 13, 50, 69, 70, 89, 16, 75, 99, 26, 35, 91, 24, 64, 28, 55, 41, 54, 58, 39, 96, 56, 27, 66, 61, 20, 14], [64, 54, 68, 96, 83, 59, 89, 93, 29, 7, 21, 40, 13, 12, 49, 11, 81, 91, 69, 61, 10, 88, 70, 30, 84, 90, 95, 8, 47, 37, 14, 18, 20, 32, 23, 43, 76, 60, 28, 6, 50, 79, 15, 31, 66, 75, 36, 3, 63, 22, 62, 33, 26, 58, 0, 1, 52, 67, 48, 86, 46, 34, 53, 4, 82, 92, 27, 44, 42, 41, 2, 56, 77, 85, 98, 94, 55, 57, 5, 78, 80, 97, 71, 19, 45, 39, 87, 9, 17, 51, 99, 73, 74, 35, 72, 16, 25, 24, 65, 38], [79, 68, 53, 64, 2, 48, 31, 38, 67, 65, 4, 81, 9, 99, 28, 30, 15, 21, 88, 35, 24, 97, 6, 10, 94, 86, 52, 45, 80, 82, 44, 78, 25, 85, 71, 73, 13, 34, 59, 63, 33, 84, 56, 60, 76, 90, 91, 0, 92, 72, 32, 19, 87, 5, 54, 77, 51, 55, 50, 98, 66, 36, 70, 20, 8, 57, 42, 89, 46, 41, 43, 95, 27, 93, 29, 11, 1, 7, 62, 26, 16, 61, 49, 14, 69, 58, 39, 17, 96, 83, 37, 75, 47, 3, 18, 23, 12, 40, 74, 22], [24, 84, 19, 11, 94, 87, 2, 32, 31, 80, 58, 72, 92, 38, 57, 28, 34, 77, 35, 78, 99, 83, 10, 4, 89, 30, 22, 67, 40, 88, 66, 27, 33, 76, 70, 46, 71, 8, 95, 61, 21, 93, 79, 54, 82, 81, 65, 47, 25, 5, 55, 26, 74, 53, 23, 44, 64, 9, 51, 12, 42, 62, 14, 17, 50, 20, 69, 7, 16, 85, 41, 29, 75, 43, 0, 59, 60, 73, 48, 1, 52, 91, 15, 56, 98, 86, 90, 3, 13, 68, 36, 6, 97, 96, 39, 63, 37, 45, 18, 49], [52, 0, 36, 78, 89, 20, 70, 77, 12, 62, 66, 51, 4, 64, 37, 19, 28, 40, 79, 1, 33, 87, 48, 30, 73, 29, 91, 54, 63, 57, 75, 24, 49, 47, 81, 27, 92, 94, 68, 97, 90, 39, 44, 82, 72, 65, 74, 18, 35, 11, 5, 45, 50, 60, 96, 6, 59, 25, 53, 56, 88, 22, 10, 32, 16, 93, 58, 86, 42, 99, 76, 9, 83, 34, 31, 41, 71, 21, 2, 17, 61, 67, 43, 14, 98, 85, 55, 7, 38, 69, 13, 26, 46, 84, 3, 23, 95, 15, 80, 8], [83, 78, 90, 37, 0, 84, 95, 22, 40, 4, 34, 75, 36, 13, 93, 99, 44, 98, 79, 33, 38, 71, 68, 52, 97, 89, 35, 48, 8, 49, 87, 11, 24, 14, 45, 23, 9, 10, 72, 30, 39, 54, 42, 82, 96, 20, 28, 58, 1, 29, 2, 80, 85, 92, 26, 43, 15, 31, 21, 50, 94, 69, 64, 51, 88, 47, 55, 70, 25, 6, 81, 41, 86, 91, 5, 59, 46, 27, 56, 12, 63, 66, 3, 73, 77, 60, 32, 53, 16, 67, 65, 57, 7, 17, 19, 74, 61, 18, 62, 76], [86, 74, 0, 60, 47, 25, 69, 95, 34, 23, 24, 79, 2, 48, 99, 39, 11, 33, 5, 46, 55, 15, 41, 1, 17, 54, 64, 65, 49, 42, 76, 90, 82, 8, 62, 16, 59, 40, 18, 19, 36, 96, 98, 35, 7, 14, 56, 44, 94, 58, 43, 87, 21, 91, 84, 78, 10, 68, 45, 80, 3, 72, 61, 63, 9, 51, 75, 22, 81, 29, 89, 73, 70, 83, 67, 27, 88, 57, 30, 37, 4, 32, 53, 26, 66, 38, 52, 6, 93, 77, 28, 97, 20, 92, 50, 31, 13, 71, 12, 85], [10, 95, 97, 57, 85, 68, 53, 48, 17, 96, 67, 15, 61, 94, 56, 12, 82, 71, 65, 38, 76, 49, 26, 2, 33, 54, 89, 93, 14, 5, 20, 3, 69, 44, 21, 99, 79, 90, 41, 23, 34, 51, 73, 50, 16, 58, 46, 32, 88, 19, 40, 36, 87, 37, 18, 78, 35, 25, 70, 45, 77, 84, 64, 6, 55, 9, 27, 42, 86, 83, 7, 62, 29, 66, 52, 28, 74, 91, 63, 47, 75, 98, 81, 30, 60, 39, 92, 59, 31, 80, 72, 13, 4, 0, 24, 22, 8, 11, 43, 1], [85, 49, 62, 37, 21, 65, 20, 9, 92, 7, 90, 43, 29, 89, 25, 30, 47, 17, 51, 71, 50, 75, 12, 1, 95, 27, 59, 40, 66, 54, 6, 77, 88, 82, 31, 60, 91, 61, 87, 5, 69, 45, 48, 63, 4, 58, 0, 13, 94, 44, 93, 18, 73, 80, 79, 38, 83, 86, 23, 24, 2, 46, 81, 33, 68, 72, 26, 99, 70, 96, 15, 67, 52, 74, 10, 53, 78, 97, 39, 8, 76, 11, 42, 14, 19, 55, 64, 98, 3, 56, 57, 36, 22, 28, 34, 84, 41, 16, 32, 35], [39, 84, 61, 53, 91, 4, 88, 70, 29, 51, 58, 16, 64, 10, 35, 1, 73, 76, 20, 18, 94, 17, 60, 2, 3, 48, 28, 32, 36, 85, 57, 12, 15, 21, 79, 26, 59, 6, 80, 38, 69, 43, 50, 87, 65, 44, 56, 47, 13, 93, 46, 14, 68, 63, 7, 11, 55, 83, 40, 99, 96, 37, 49, 81, 86, 89, 31, 66, 90, 19, 95, 98, 23, 78, 75, 71, 24, 52, 45, 62, 25, 92, 82, 72, 42, 0, 33, 77, 74, 41, 22, 67, 30, 8, 9, 97, 5, 34, 27, 54], [7, 39, 83, 71, 2, 30, 0, 25, 19, 98, 3, 53, 32, 54, 78, 24, 20, 31, 48, 14, 90, 89, 84, 5, 4, 51, 99, 23, 68, 40, 10, 85, 8, 43, 28, 42, 94, 36, 6, 70, 16, 64, 34, 26, 80, 17, 92, 57, 41, 63, 66, 21, 72, 59, 88, 73, 60, 27, 74, 79, 93, 65, 45, 76, 75, 97, 62, 13, 87, 11, 96, 18, 33, 35, 86, 91, 44, 52, 95, 50, 61, 46, 58, 81, 49, 67, 47, 15, 12, 69, 9, 38, 37, 56, 22, 1, 77, 55, 29, 82], [62, 59, 8, 66, 91, 26, 28, 77, 24, 99, 90, 35, 58, 37, 2, 75, 1, 41, 27, 0, 21, 30, 31, 85, 9, 36, 43, 42, 10, 29, 49, 89, 87, 96, 16, 61, 48, 22, 67, 53, 17, 93, 74, 14, 84, 56, 63, 7, 64, 57, 78, 81, 86, 39, 65, 45, 70, 82, 71, 79, 88, 6, 68, 44, 11, 46, 52, 4, 54, 33, 3, 25, 40, 20, 51, 55, 80, 5, 73, 34, 69, 38, 18, 95, 32, 83, 12, 94, 72, 97, 92, 50, 23, 60, 98, 15, 76, 19, 47, 13], [47, 52, 16, 85, 71, 72, 27, 62, 10, 0, 35, 88, 1, 80, 87, 51, 65, 17, 58, 53, 84, 48, 14, 77, 66, 73, 69, 2, 4, 36, 82, 61, 15, 96, 55, 18, 68, 57, 28, 44, 99, 20, 45, 29, 8, 83, 25, 23, 50, 81, 54, 6, 3, 30, 70, 49, 38, 78, 86, 32, 64, 39, 40, 13, 31, 76, 60, 41, 9, 91, 11, 94, 74, 42, 24, 22, 26, 33, 19, 5, 79, 12, 46, 56, 37, 7, 95, 98, 93, 75, 90, 63, 97, 92, 89, 43, 67, 34, 59, 21], [38, 3, 29, 4, 77, 2, 75, 22, 76, 63, 25, 73, 46, 17, 60, 56, 12, 61, 57, 70, 51, 96, 19, 40, 14, 54, 89, 11, 62, 99, 43, 42, 0, 39, 15, 23, 79, 52, 44, 50, 34, 8, 65, 86, 66, 37, 20, 69, 32, 71, 48, 36, 93, 49, 33, 83, 7, 81, 74, 35, 67, 10, 27, 53, 92, 97, 84, 59, 31, 16, 58, 9, 45, 91, 55, 5, 13, 18, 82, 68, 26, 78, 90, 28, 88, 1, 87, 24, 64, 85, 94, 98, 41, 21, 72, 6, 80, 47, 30, 95], [71, 79, 39, 47, 43, 67, 64, 55, 60, 22, 42, 80, 70, 17, 32, 2, 65, 26, 75, 89, 91, 24, 5, 93, 83, 12, 14, 16, 9, 63, 48, 51, 92, 31, 66, 62, 69, 61, 58, 23, 25, 56, 37, 21, 30, 98, 11, 7, 33, 76, 50, 97, 34, 82, 40, 73, 15, 4, 1, 87, 38, 28, 74, 49, 85, 54, 78, 45, 10, 36, 81, 88, 94, 96, 20, 29, 77, 8, 72, 19, 3, 95, 53, 27, 13, 18, 44, 59, 57, 84, 86, 52, 90, 6, 41, 68, 46, 35, 99, 0], [79, 41, 89, 0, 39, 13, 42, 55, 57, 78, 2, 86, 87, 8, 17, 50, 81, 24, 14, 37, 51, 36, 64, 26, 77, 59, 40, 33, 94, 34, 38, 45, 12, 68, 60, 7, 22, 72, 6, 44, 92, 54, 93, 1, 10, 69, 84, 82, 63, 31, 76, 18, 73, 67, 49, 58, 11, 52, 35, 32, 96, 61, 47, 9, 28, 16, 46, 71, 48, 66, 21, 43, 88, 53, 5, 27, 85, 99, 56, 80, 4, 83, 29, 65, 25, 3, 74, 19, 91, 95, 62, 23, 15, 30, 70, 97, 20, 98, 75, 90], [5, 59, 58, 2, 78, 96, 27, 14, 6, 17, 1, 81, 36, 53, 15, 95, 80, 97, 47, 65, 30, 29, 12, 41, 51, 52, 8, 83, 21, 35, 24, 79, 68, 92, 49, 31, 54, 43, 38, 66, 75, 71, 55, 85, 45, 32, 33, 72, 0, 19, 74, 56, 13, 73, 82, 69, 90, 16, 3, 94, 44, 42, 4, 88, 11, 62, 25, 60, 40, 57, 26, 84, 10, 76, 20, 48, 77, 70, 98, 28, 18, 61, 22, 39, 23, 86, 46, 89, 67, 7, 37, 99, 50, 64, 91, 34, 87, 93, 63, 9], [44, 5, 59, 54, 76, 4, 42, 22, 65, 31, 40, 61, 17, 30, 58, 49, 91, 3, 19, 83, 56, 80, 46, 86, 18, 13, 64, 24, 78, 32, 9, 94, 48, 1, 69, 67, 99, 75, 51, 98, 21, 72, 52, 90, 2, 53, 47, 84, 39, 71, 7, 27, 95, 23, 25, 55, 37, 82, 8, 50, 63, 38, 92, 41, 87, 0, 62, 77, 26, 66, 15, 93, 57, 79, 74, 68, 97, 12, 60, 10, 73, 45, 35, 43, 70, 28, 6, 16, 11, 29, 89, 81, 85, 20, 96, 14, 34, 88, 33, 36], [50, 48, 79, 37, 70, 44, 77, 7, 99, 89, 80, 24, 71, 67, 38, 9, 69, 31, 0, 64, 63, 88, 73, 46, 26, 96, 45, 22, 62, 1, 29, 84, 28, 65, 56, 2, 17, 75, 83, 57, 40, 36, 25, 33, 49, 78, 61, 11, 53, 21, 76, 41, 20, 16, 43, 74, 87, 32, 27, 68, 85, 42, 51, 58, 97, 15, 93, 66, 19, 10, 98, 92, 35, 95, 55, 39, 5, 6, 8, 60, 72, 86, 18, 47, 23, 59, 91, 54, 34, 12, 3, 30, 14, 94, 4, 82, 13, 81, 90, 52], [62, 3, 24, 86, 36, 35, 6, 53, 97, 50, 74, 15, 57, 25, 79, 28, 19, 90, 76, 33, 8, 60, 89, 1, 44, 56, 16, 22, 38, 70, 42, 94, 7, 54, 23, 81, 65, 46, 55, 26, 30, 43, 78, 85, 91, 67, 95, 40, 63, 39, 71, 10, 41, 49, 13, 34, 73, 14, 11, 51, 4, 77, 83, 20, 96, 87, 37, 9, 12, 18, 98, 82, 92, 48, 66, 99, 80, 32, 69, 0, 93, 2, 68, 58, 17, 52, 29, 21, 84, 75, 45, 64, 47, 5, 88, 61, 31, 27, 72, 59], [89, 40, 39, 21, 17, 1, 50, 64, 32, 80, 6, 87, 54, 61, 84, 16, 9, 97, 62, 52, 83, 14, 46, 25, 37, 75, 51, 69, 18, 63, 27, 57, 7, 86, 53, 8, 79, 93, 44, 78, 36, 66, 10, 68, 94, 24, 23, 41, 67, 28, 48, 60, 92, 74, 98, 35, 99, 95, 49, 38, 22, 33, 2, 71, 15, 72, 4, 73, 47, 11, 91, 77, 43, 76, 56, 85, 13, 65, 12, 70, 26, 58, 90, 20, 34, 0, 19, 55, 81, 3, 42, 29, 5, 30, 88, 59, 45, 96, 82, 31], [99, 88, 78, 38, 63, 68, 12, 24, 32, 29, 2, 95, 61, 10, 62, 48, 92, 54, 17, 18, 65, 25, 16, 83, 96, 75, 98, 76, 50, 28, 8, 74, 6, 97, 49, 44, 5, 79, 46, 70, 1, 36, 40, 71, 31, 21, 64, 41, 86, 13, 39, 15, 87, 45, 37, 4, 43, 30, 35, 59, 23, 94, 72, 81, 80, 67, 89, 77, 55, 9, 90, 47, 7, 22, 11, 3, 53, 73, 51, 20, 82, 93, 58, 57, 42, 34, 69, 91, 33, 27, 26, 52, 14, 66, 85, 84, 0, 19, 56, 60], [7, 29, 63, 28, 95, 94, 26, 91, 31, 46, 49, 39, 79, 72, 93, 24, 42, 73, 92, 3, 67, 36, 47, 5, 17, 41, 88, 74, 23, 77, 55, 83, 33, 86, 57, 25, 27, 58, 10, 71, 75, 48, 82, 11, 56, 87, 70, 38, 84, 78, 81, 16, 32, 69, 12, 8, 43, 50, 54, 61, 45, 15, 30, 64, 0, 37, 22, 18, 21, 34, 2, 66, 44, 80, 59, 20, 6, 51, 53, 96, 9, 19, 13, 85, 40, 68, 35, 97, 1, 99, 60, 76, 4, 52, 98, 90, 89, 14, 65, 62], [14, 36, 9, 73, 32, 55, 47, 78, 86, 89, 25, 15, 61, 79, 49, 70, 20, 63, 29, 59, 80, 12, 87, 67, 85, 39, 92, 3, 35, 64, 96, 58, 6, 18, 74, 46, 11, 88, 10, 93, 68, 24, 1, 76, 7, 2, 53, 60, 41, 28, 4, 45, 0, 98, 75, 30, 57, 82, 16, 42, 44, 72, 77, 8, 91, 5, 99, 13, 81, 95, 17, 65, 62, 50, 52, 19, 43, 33, 31, 22, 27, 84, 48, 90, 83, 56, 54, 21, 37, 51, 23, 69, 94, 26, 40, 97, 66, 71, 34, 38], [55, 91, 48, 63, 41, 83, 88, 54, 92, 11, 90, 99, 28, 95, 9, 53, 76, 65, 42, 86, 78, 81, 27, 38, 93, 98, 47, 44, 5, 68, 52, 20, 46, 43, 62, 10, 56, 35, 30, 17, 59, 87, 71, 25, 8, 14, 73, 4, 22, 23, 15, 82, 80, 94, 18, 70, 34, 84, 1, 3, 0, 69, 60, 50, 51, 29, 79, 72, 74, 37, 21, 13, 77, 32, 19, 67, 12, 6, 58, 89, 31, 64, 26, 97, 40, 39, 85, 36, 33, 2, 61, 7, 24, 45, 57, 16, 66, 49, 96, 75], [45, 24, 50, 34, 90, 86, 55, 61, 76, 91, 74, 48, 81, 3, 42, 4, 54, 99, 66, 12, 30, 96, 38, 47, 29, 33, 9, 31, 67, 84, 46, 14, 20, 63, 13, 7, 25, 89, 68, 35, 43, 19, 82, 10, 0, 87, 92, 28, 51, 69, 85, 17, 59, 77, 27, 75, 26, 22, 98, 8, 62, 58, 37, 49, 83, 5, 93, 79, 39, 64, 60, 32, 41, 70, 97, 21, 56, 23, 88, 6, 15, 65, 40, 44, 11, 16, 1, 94, 95, 78, 18, 73, 72, 57, 52, 71, 36, 2, 53, 80], [66, 31, 54, 37, 0, 38, 95, 98, 97, 9, 92, 33, 15, 69, 47, 68, 18, 94, 61, 86, 14, 85, 58, 17, 5, 3, 73, 23, 48, 71, 21, 88, 45, 40, 72, 99, 29, 57, 49, 25, 44, 24, 87, 81, 65, 30, 35, 91, 80, 6, 56, 7, 28, 96, 89, 1, 36, 26, 27, 43, 79, 93, 41, 46, 60, 64, 20, 75, 32, 84, 53, 50, 19, 63, 16, 76, 62, 55, 52, 39, 8, 51, 77, 70, 10, 22, 42, 90, 83, 34, 59, 2, 82, 12, 4, 78, 13, 11, 74, 67], [43, 52, 37, 39, 16, 17, 19, 73, 95, 61, 10, 47, 93, 75, 5, 8, 31, 80, 84, 70, 9, 83, 42, 87, 24, 54, 3, 20, 67, 48, 66, 21, 77, 96, 40, 34, 56, 29, 44, 12, 55, 27, 59, 15, 99, 22, 53, 4, 79, 98, 86, 46, 32, 51, 94, 11, 89, 28, 71, 38, 25, 30, 82, 33, 2, 7, 72, 63, 97, 81, 45, 13, 50, 92, 62, 0, 49, 68, 85, 64, 23, 91, 57, 1, 41, 60, 6, 36, 65, 88, 14, 69, 18, 35, 76, 78, 74, 26, 90, 58], [51, 50, 60, 81, 30, 25, 86, 76, 43, 23, 74, 48, 70, 80, 32, 22, 49, 31, 64, 96, 71, 26, 59, 93, 6, 78, 11, 63, 83, 2, 8, 20, 65, 87, 92, 12, 17, 94, 19, 34, 88, 73, 41, 5, 99, 9, 89, 39, 84, 15, 14, 58, 42, 7, 10, 97, 4, 79, 75, 61, 24, 45, 13, 55, 0, 91, 53, 44, 36, 90, 72, 38, 67, 66, 3, 28, 27, 68, 52, 29, 33, 16, 37, 21, 35, 54, 82, 69, 46, 98, 77, 95, 56, 40, 47, 57, 85, 62, 18, 1], [44, 39, 57, 69, 71, 70, 10, 22, 59, 97, 30, 77, 13, 61, 65, 85, 98, 72, 95, 48, 60, 89, 43, 16, 9, 73, 17, 27, 53, 64, 96, 84, 68, 3, 51, 76, 23, 25, 50, 36, 20, 26, 6, 28, 45, 47, 21, 56, 29, 55, 93, 1, 78, 67, 81, 18, 33, 54, 52, 32, 63, 58, 91, 94, 14, 31, 40, 62, 5, 11, 19, 99, 35, 75, 92, 74, 88, 34, 15, 86, 82, 49, 7, 90, 8, 37, 46, 0, 41, 87, 42, 38, 80, 83, 24, 79, 12, 4, 2, 66], [33, 15, 1, 88, 79, 13, 4, 85, 19, 66, 86, 0, 84, 44, 96, 95, 65, 63, 28, 37, 35, 71, 54, 22, 48, 24, 16, 30, 36, 97, 2, 32, 76, 75, 90, 10, 41, 82, 74, 59, 12, 3, 57, 46, 98, 58, 38, 73, 42, 20, 69, 17, 67, 49, 80, 18, 60, 40, 45, 64, 83, 53, 23, 62, 47, 68, 52, 43, 25, 51, 81, 93, 78, 39, 77, 94, 9, 27, 34, 50, 72, 29, 99, 70, 7, 92, 87, 8, 56, 21, 89, 26, 61, 11, 55, 14, 6, 91, 31, 5], [56, 49, 18, 39, 7, 40, 91, 50, 54, 67, 24, 0, 86, 51, 58, 57, 60, 85, 21, 15, 83, 32, 19, 28, 3, 14, 55, 22, 69, 5, 88, 41, 47, 52, 68, 96, 29, 35, 79, 81, 84, 75, 38, 16, 27, 8, 53, 77, 10, 23, 65, 71, 33, 70, 6, 98, 45, 13, 61, 26, 31, 89, 9, 1, 59, 4, 46, 62, 82, 2, 76, 17, 64, 66, 20, 94, 93, 11, 63, 44, 30, 73, 74, 12, 34, 37, 99, 90, 80, 36, 25, 87, 92, 48, 43, 72, 42, 78, 95, 97], [85, 2, 91, 25, 39, 71, 10, 76, 84, 1, 37, 88, 70, 16, 94, 86, 28, 0, 5, 53, 32, 87, 17, 57, 11, 44, 80, 60, 68, 30, 79, 35, 72, 33, 42, 82, 27, 63, 74, 52, 96, 38, 98, 77, 22, 83, 21, 13, 62, 43, 48, 3, 67, 8, 99, 93, 58, 4, 14, 36, 73, 51, 64, 26, 81, 29, 54, 65, 18, 97, 12, 23, 7, 40, 50, 45, 24, 47, 69, 15, 59, 34, 90, 49, 55, 95, 19, 6, 46, 41, 56, 20, 61, 89, 66, 92, 9, 78, 75, 31], [63, 34, 69, 33, 86, 73, 0, 25, 27, 12, 15, 49, 52, 91, 84, 66, 96, 68, 43, 50, 64, 24, 7, 70, 30, 78, 98, 10, 31, 42, 82, 37, 97, 5, 80, 76, 23, 87, 58, 13, 18, 6, 14, 74, 4, 21, 85, 46, 54, 67, 72, 17, 44, 16, 51, 65, 2, 48, 53, 94, 45, 26, 39, 8, 40, 88, 62, 9, 32, 20, 28, 19, 71, 38, 3, 60, 61, 92, 29, 59, 79, 95, 56, 41, 99, 75, 83, 77, 11, 36, 93, 55, 81, 1, 57, 47, 90, 89, 35, 22], [28, 66, 96, 57, 99, 65, 15, 98, 2, 10, 84, 5, 21, 92, 53, 27, 88, 33, 31, 83, 43, 17, 13, 46, 54, 91, 47, 20, 86, 81, 45, 76, 36, 11, 78, 12, 37, 19, 71, 3, 74, 55, 80, 52, 64, 18, 85, 0, 48, 49, 56, 51, 23, 9, 42, 50, 72, 60, 58, 89, 32, 87, 70, 40, 16, 39, 79, 73, 69, 44, 22, 4, 93, 35, 90, 7, 61, 95, 94, 59, 29, 68, 38, 97, 67, 34, 75, 6, 14, 62, 77, 26, 41, 1, 24, 82, 8, 25, 63, 30], [33, 30, 15, 95, 44, 53, 19, 41, 65, 71, 11, 47, 40, 84, 74, 26, 93, 98, 50, 32, 17, 69, 43, 37, 45, 62, 58, 88, 66, 52, 2, 80, 31, 91, 61, 3, 89, 10, 13, 38, 86, 49, 79, 0, 77, 90, 63, 20, 27, 21, 29, 23, 94, 64, 99, 57, 22, 6, 56, 35, 7, 36, 96, 1, 24, 67, 81, 42, 25, 75, 78, 87, 39, 16, 70, 28, 73, 60, 83, 9, 59, 68, 34, 92, 54, 97, 48, 12, 55, 18, 51, 72, 76, 4, 46, 14, 82, 8, 5, 85], [32, 79, 43, 59, 1, 27, 91, 88, 68, 86, 52, 7, 92, 50, 85, 2, 45, 64, 95, 13, 58, 12, 24, 25, 74, 23, 38, 56, 20, 62, 67, 76, 42, 61, 21, 17, 18, 28, 0, 22, 53, 30, 34, 72, 4, 19, 6, 11, 35, 55, 63, 46, 5, 37, 54, 94, 44, 16, 83, 36, 31, 93, 60, 9, 77, 70, 49, 84, 75, 10, 51, 69, 15, 96, 71, 57, 40, 98, 82, 29, 89, 81, 41, 90, 8, 3, 97, 66, 26, 87, 65, 14, 78, 73, 47, 33, 48, 80, 99, 39], [14, 95, 81, 69, 51, 44, 97, 74, 57, 68, 79, 34, 87, 94, 85, 32, 24, 4, 92, 64, 46, 55, 42, 29, 16, 43, 23, 59, 71, 82, 12, 72, 84, 27, 21, 22, 37, 67, 65, 25, 41, 10, 11, 62, 5, 38, 70, 0, 88, 50, 18, 86, 49, 33, 45, 78, 31, 39, 48, 58, 1, 77, 6, 90, 19, 40, 60, 56, 99, 83, 96, 89, 28, 3, 53, 30, 66, 35, 36, 15, 2, 20, 17, 13, 47, 54, 75, 7, 76, 26, 80, 8, 52, 9, 93, 91, 61, 63, 98, 73], [22, 30, 96, 17, 76, 99, 56, 34, 9, 26, 24, 82, 15, 45, 83, 95, 86, 51, 38, 33, 36, 25, 62, 69, 93, 1, 35, 19, 68, 65, 55, 46, 85, 72, 13, 58, 3, 10, 16, 63, 73, 8, 88, 94, 37, 74, 12, 71, 0, 44, 59, 32, 20, 39, 75, 91, 4, 92, 77, 18, 89, 66, 80, 5, 11, 57, 84, 21, 27, 41, 28, 53, 14, 40, 6, 90, 23, 7, 42, 29, 78, 64, 97, 61, 98, 70, 2, 48, 52, 49, 43, 50, 67, 47, 79, 81, 31, 87, 54, 60], [58, 87, 73, 66, 69, 19, 70, 55, 83, 77, 40, 76, 92, 17, 86, 33, 54, 13, 3, 95, 81, 8, 89, 15, 20, 46, 6, 67, 44, 84, 1, 0, 5, 18, 7, 9, 39, 47, 48, 11, 71, 59, 12, 93, 22, 14, 82, 96, 2, 43, 74, 51, 36, 90, 27, 53, 45, 99, 98, 31, 32, 85, 52, 21, 49, 10, 56, 35, 65, 24, 72, 30, 23, 42, 34, 57, 37, 60, 75, 4, 63, 50, 62, 16, 41, 29, 94, 26, 91, 38, 78, 61, 25, 79, 80, 28, 64, 68, 88, 97], [11, 9, 22, 82, 65, 88, 74, 51, 83, 13, 91, 58, 71, 97, 24, 36, 87, 53, 12, 75, 46, 52, 41, 10, 61, 50, 55, 32, 76, 29, 95, 2, 16, 85, 37, 18, 6, 5, 70, 4, 78, 86, 99, 42, 31, 56, 62, 35, 67, 27, 96, 34, 38, 63, 28, 26, 66, 90, 68, 19, 43, 60, 80, 20, 79, 57, 54, 39, 21, 73, 23, 30, 48, 44, 49, 77, 84, 17, 93, 33, 64, 7, 1, 45, 94, 59, 25, 15, 81, 14, 47, 3, 92, 89, 72, 69, 8, 98, 40, 0], [4, 93, 92, 40, 8, 47, 13, 84, 89, 19, 49, 85, 80, 81, 90, 99, 57, 18, 16, 94, 14, 96, 58, 29, 32, 20, 61, 52, 74, 63, 98, 76, 87, 10, 44, 34, 1, 86, 0, 60, 97, 3, 41, 68, 50, 65, 59, 30, 22, 25, 35, 23, 24, 91, 17, 27, 15, 7, 31, 67, 2, 36, 56, 70, 75, 26, 55, 82, 51, 39, 73, 54, 9, 33, 11, 5, 46, 64, 42, 83, 66, 72, 95, 12, 6, 43, 88, 37, 78, 77, 79, 28, 53, 69, 71, 38, 48, 45, 21, 62], [20, 79, 81, 87, 78, 86, 65, 43, 18, 11, 47, 96, 28, 27, 44, 1, 42, 32, 80, 89, 13, 38, 49, 74, 22, 64, 15, 97, 23, 53, 62, 19, 30, 46, 98, 69, 52, 94, 61, 92, 9, 70, 51, 14, 31, 67, 55, 84, 83, 60, 24, 41, 16, 26, 77, 72, 17, 59, 39, 71, 50, 57, 45, 93, 34, 5, 48, 63, 88, 33, 99, 29, 91, 68, 7, 66, 76, 40, 37, 6, 58, 12, 36, 35, 90, 75, 95, 10, 73, 56, 0, 54, 3, 2, 21, 25, 85, 4, 82, 8], [51, 5, 66, 39, 40, 44, 34, 78, 17, 96, 74, 26, 82, 32, 25, 15, 92, 9, 23, 62, 16, 83, 85, 36, 21, 19, 97, 57, 76, 89, 31, 98, 48, 11, 14, 58, 47, 6, 1, 81, 18, 73, 52, 71, 43, 77, 46, 88, 33, 59, 8, 75, 38, 60, 0, 79, 99, 93, 22, 49, 56, 27, 37, 67, 20, 30, 53, 2, 63, 55, 41, 7, 12, 13, 35, 10, 95, 28, 70, 94, 80, 69, 29, 86, 61, 50, 84, 42, 87, 54, 65, 68, 64, 45, 3, 72, 90, 4, 24, 91], [60, 28, 67, 33, 6, 12, 3, 42, 22, 17, 68, 46, 83, 47, 39, 30, 94, 9, 55, 65, 13, 20, 57, 71, 41, 40, 29, 25, 79, 93, 4, 52, 7, 82, 27, 0, 96, 37, 64, 73, 23, 21, 91, 45, 2, 75, 72, 49, 51, 19, 87, 16, 85, 10, 78, 90, 35, 58, 11, 84, 77, 74, 15, 32, 43, 99, 56, 34, 97, 50, 70, 59, 54, 24, 88, 98, 53, 86, 38, 26, 62, 31, 44, 89, 66, 69, 36, 18, 5, 92, 14, 76, 63, 80, 8, 61, 81, 1, 48, 95], [35, 87, 47, 24, 2, 5, 15, 10, 11, 79, 42, 60, 48, 44, 32, 66, 37, 92, 55, 4, 98, 45, 46, 22, 91, 93, 57, 61, 36, 89, 96, 82, 9, 41, 16, 43, 29, 64, 19, 13, 12, 0, 25, 53, 23, 72, 71, 17, 86, 52, 63, 81, 80, 70, 49, 75, 8, 73, 77, 54, 88, 56, 94, 67, 59, 30, 7, 39, 68, 1, 6, 58, 78, 40, 34, 62, 18, 3, 50, 20, 26, 84, 90, 65, 69, 95, 33, 51, 74, 85, 83, 99, 14, 97, 27, 76, 38, 28, 21, 31], [20, 47, 54, 71, 82, 37, 38, 50, 40, 64, 51, 98, 81, 72, 70, 63, 10, 45, 58, 15, 42, 28, 96, 83, 34, 59, 73, 95, 46, 86, 62, 85, 32, 16, 21, 53, 24, 65, 7, 1, 60, 19, 61, 8, 9, 48, 67, 75, 31, 13, 43, 92, 17, 55, 2, 30, 97, 74, 56, 25, 3, 0, 49, 5, 18, 12, 26, 90, 44, 78, 68, 14, 35, 80, 77, 94, 66, 52, 57, 6, 93, 41, 11, 84, 91, 4, 69, 36, 87, 88, 29, 99, 23, 22, 39, 79, 27, 76, 89, 33], [58, 33, 19, 98, 79, 16, 94, 75, 65, 4, 20, 64, 83, 15, 72, 99, 77, 53, 49, 35, 78, 71, 44, 57, 37, 91, 55, 63, 43, 60, 38, 27, 62, 26, 39, 81, 41, 45, 13, 1, 46, 74, 73, 48, 76, 31, 82, 42, 89, 18, 11, 95, 59, 66, 5, 80, 9, 67, 90, 12, 17, 47, 32, 96, 36, 7, 84, 3, 22, 0, 29, 85, 2, 61, 14, 24, 97, 21, 51, 8, 30, 68, 86, 34, 6, 50, 52, 93, 92, 87, 69, 56, 54, 28, 10, 70, 88, 23, 40, 25], [71, 12, 97, 92, 94, 64, 63, 85, 25, 34, 82, 19, 59, 28, 90, 7, 98, 78, 42, 17, 0, 29, 55, 41, 57, 26, 99, 15, 9, 27, 77, 58, 14, 21, 87, 61, 48, 80, 84, 40, 47, 62, 36, 46, 79, 73, 88, 56, 11, 38, 20, 4, 3, 51, 69, 18, 65, 68, 81, 13, 76, 72, 37, 75, 96, 67, 10, 49, 66, 70, 22, 35, 32, 83, 74, 86, 8, 43, 16, 53, 23, 6, 30, 24, 1, 52, 93, 5, 39, 91, 54, 33, 60, 44, 50, 45, 95, 2, 89, 31], [46, 0, 55, 93, 29, 84, 35, 72, 51, 19, 94, 24, 7, 97, 41, 20, 79, 11, 90, 76, 32, 49, 34, 75, 1, 15, 22, 54, 85, 62, 69, 50, 4, 17, 42, 98, 81, 16, 2, 65, 8, 57, 23, 83, 64, 87, 9, 52, 12, 31, 53, 95, 33, 36, 21, 13, 73, 5, 45, 99, 48, 37, 67, 10, 61, 74, 71, 77, 18, 70, 3, 66, 91, 25, 82, 44, 27, 59, 92, 47, 43, 38, 68, 89, 30, 78, 26, 40, 58, 96, 60, 63, 80, 56, 28, 6, 14, 39, 88, 86], [72, 68, 76, 95, 14, 75, 93, 19, 96, 87, 31, 22, 67, 8, 16, 37, 5, 58, 88, 29, 69, 56, 1, 7, 10, 59, 25, 64, 32, 79, 94, 74, 41, 26, 4, 99, 30, 48, 45, 91, 82, 62, 2, 80, 83, 86, 38, 55, 44, 73, 11, 50, 52, 6, 13, 24, 54, 60, 71, 17, 23, 3, 36, 39, 66, 63, 65, 70, 28, 77, 0, 89, 42, 97, 46, 47, 18, 33, 15, 51, 98, 27, 12, 90, 85, 35, 81, 61, 92, 49, 21, 84, 20, 34, 9, 57, 40, 78, 53, 43], [18, 45, 22, 12, 1, 95, 8, 49, 96, 93, 73, 63, 27, 94, 7, 4, 89, 41, 44, 74, 87, 10, 28, 86, 69, 31, 43, 11, 67, 47, 97, 16, 88, 83, 72, 71, 40, 50, 20, 91, 33, 55, 99, 65, 80, 60, 3, 98, 6, 34, 68, 15, 70, 0, 19, 30, 59, 82, 2, 37, 51, 64, 25, 54, 48, 76, 38, 75, 78, 17, 90, 36, 42, 66, 81, 32, 39, 21, 92, 46, 14, 24, 26, 23, 9, 62, 53, 84, 52, 13, 85, 79, 35, 29, 58, 77, 5, 56, 57, 61], [5, 47, 49, 41, 72, 58, 68, 18, 66, 59, 7, 90, 31, 27, 65, 43, 36, 62, 91, 25, 44, 97, 50, 13, 84, 80, 92, 76, 30, 21, 67, 38, 20, 45, 10, 9, 42, 39, 53, 63, 74, 48, 54, 24, 2, 32, 99, 29, 77, 71, 19, 78, 33, 95, 16, 55, 52, 69, 86, 4, 1, 93, 6, 46, 35, 14, 75, 98, 88, 17, 11, 87, 89, 8, 15, 94, 96, 83, 23, 37, 60, 0, 56, 34, 40, 28, 51, 26, 85, 3, 12, 61, 82, 57, 73, 22, 81, 64, 70, 79], [63, 12, 35, 13, 86, 23, 38, 42, 92, 74, 36, 32, 58, 71, 94, 25, 6, 79, 51, 21, 73, 33, 87, 75, 98, 47, 11, 4, 66, 77, 45, 30, 95, 22, 3, 7, 28, 72, 17, 59, 18, 31, 82, 85, 8, 44, 99, 9, 56, 50, 10, 43, 89, 27, 48, 65, 54, 29, 49, 64, 14, 70, 19, 60, 53, 20, 37, 39, 15, 34, 62, 52, 76, 24, 93, 55, 61, 5, 80, 26, 46, 84, 41, 40, 91, 16, 69, 88, 96, 83, 90, 67, 0, 1, 57, 81, 68, 2, 97, 78], [25, 66, 99, 0, 49, 89, 51, 21, 69, 26, 78, 77, 55, 7, 81, 76, 45, 93, 20, 96, 94, 92, 6, 27, 71, 34, 9, 64, 75, 87, 63, 84, 33, 88, 4, 54, 42, 58, 1, 74, 24, 8, 17, 41, 67, 14, 53, 50, 19, 68, 60, 30, 43, 16, 90, 85, 5, 40, 44, 59, 98, 29, 47, 62, 31, 80, 2, 10, 97, 57, 23, 32, 56, 13, 72, 39, 18, 22, 35, 86, 83, 36, 48, 11, 65, 28, 52, 3, 91, 37, 38, 95, 70, 79, 46, 82, 15, 73, 12, 61]]\n"
     ]
    },
    {
     "data": {
      "text/plain": [
       "80"
      ]
     },
     "execution_count": 58,
     "metadata": {},
     "output_type": "execute_result"
    }
   ],
   "source": [
    "sample_list_1 = []\n",
    "count = 0\n",
    "max_number = 80\n",
    "while count < max_number:\n",
    "    sample_list_1.append(random.sample(range(0, 100), 100))\n",
    "    count += 1\n",
    "print(sample_list_1)\n",
    "len(sample_list_1)"
   ]
  },
  {
   "cell_type": "code",
   "execution_count": null,
   "metadata": {},
   "outputs": [],
   "source": []
  }
 ],
 "metadata": {
  "colab": {
   "name": "Code Along Object Types.ipynb",
   "provenance": []
  },
  "kernelspec": {
   "display_name": "Python 3 (ipykernel)",
   "language": "python",
   "name": "python3"
  },
  "language_info": {
   "codemirror_mode": {
    "name": "ipython",
    "version": 3
   },
   "file_extension": ".py",
   "mimetype": "text/x-python",
   "name": "python",
   "nbconvert_exporter": "python",
   "pygments_lexer": "ipython3",
   "version": "3.9.7"
  },
  "toc": {
   "base_numbering": 1,
   "nav_menu": {},
   "number_sections": false,
   "sideBar": true,
   "skip_h1_title": false,
   "title_cell": "Table of Contents",
   "title_sidebar": "Contents",
   "toc_cell": false,
   "toc_position": {},
   "toc_section_display": true,
   "toc_window_display": false
  }
 },
 "nbformat": 4,
 "nbformat_minor": 1
}
