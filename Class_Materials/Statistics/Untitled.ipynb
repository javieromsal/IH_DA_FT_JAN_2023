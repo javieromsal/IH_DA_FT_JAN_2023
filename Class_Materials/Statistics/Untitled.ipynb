{
 "cells": [
  {
   "cell_type": "code",
   "execution_count": null,
   "id": "747c6776",
   "metadata": {},
   "outputs": [],
   "source": [
    "students=['Ahmet','Ajay','Aycha','Danilo','David','Duo','Erica','Hanna','Henrik','Laurens','Leo','Lukas','Markus','Miguel','Nilgun','Oksana','Pedro','Marcel','Poppy','Shola','Simone','Vladislav']"
   ]
  }
 ],
 "metadata": {
  "kernelspec": {
   "display_name": "Python 3 (ipykernel)",
   "language": "python",
   "name": "python3"
  },
  "language_info": {
   "codemirror_mode": {
    "name": "ipython",
    "version": 3
   },
   "file_extension": ".py",
   "mimetype": "text/x-python",
   "name": "python",
   "nbconvert_exporter": "python",
   "pygments_lexer": "ipython3",
   "version": "3.9.7"
  }
 },
 "nbformat": 4,
 "nbformat_minor": 5
}
